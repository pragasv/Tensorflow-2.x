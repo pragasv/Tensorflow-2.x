{
 "cells": [
  {
   "cell_type": "code",
   "execution_count": 29,
   "metadata": {},
   "outputs": [],
   "source": [
    "import numpy as np \n",
    "import keras \n",
    "import cv2 \n",
    "import tensorflow as tf \n",
    "\n",
    "from tensorflow.keras import Sequential \n",
    "from tensorflow.keras.layers import Dense \n",
    "\n",
    "import mitdeeplearning as mdl \n",
    "import matplotlib.pyplot as plt "
   ]
  },
  {
   "cell_type": "code",
   "execution_count": 7,
   "metadata": {},
   "outputs": [
    {
     "name": "stdout",
     "output_type": "stream",
     "text": [
      "sport is a 0-d Tensor\n",
      "number is a 0-d Tensor\n"
     ]
    }
   ],
   "source": [
    "sport = tf.constant(\"Tennis\",tf.string)\n",
    "number = tf.constant(1.4142,tf.float64)\n",
    "\n",
    "print(\"sport is a {}-d Tensor\".format(tf.rank(sport).numpy()))\n",
    "print(\"number is a {}-d Tensor\".format(tf.rank(number).numpy()))"
   ]
  },
  {
   "cell_type": "code",
   "execution_count": 10,
   "metadata": {},
   "outputs": [
    {
     "name": "stdout",
     "output_type": "stream",
     "text": [
      "sports is a 1-d Tensor\n",
      "number is a 1-d Tensor\n"
     ]
    }
   ],
   "source": [
    "sport = tf.constant([\"Tennis\",\"basketball\"],tf.string)\n",
    "number = tf.constant([3.414 , 1.422, 3.44],tf.float64)\n",
    "\n",
    "print(\"sports is a {}-d Tensor\".format(tf.rank(sport).numpy(), tf.shape(sport)))\n",
    "print(\"number is a {}-d Tensor\".format(tf.rank(number).numpy() ,tf.shape(number)))"
   ]
  },
  {
   "cell_type": "code",
   "execution_count": 15,
   "metadata": {},
   "outputs": [
    {
     "name": "stdout",
     "output_type": "stream",
     "text": [
      "tf.Tensor(\n",
      "[[2. 3. 4.]\n",
      " [3. 4. 5.]\n",
      " [3. 3. 3.]], shape=(3, 3), dtype=float64)\n"
     ]
    }
   ],
   "source": [
    "## defining higher order tensors \n",
    "\n",
    "'''TODO: Define a 2-d Tensor '''\n",
    "matrix = tf.constant([[2,3,4],[3,4,5],[3,3,3]],tf.float64)\n",
    "\n",
    "assert isinstance(matrix, tf.Tensor), \"matrix must be a tf Tensor object\"\n",
    "assert tf.rank(matrix).numpy() ==2 \n",
    "\n",
    "print(matrix)"
   ]
  },
  {
   "cell_type": "code",
   "execution_count": 22,
   "metadata": {},
   "outputs": [],
   "source": [
    "'''TODO: Define a 4-d Tensor'''\n",
    "#use tf.zeros to initialize a 4-d Tensor of zeros with size 10 X 256 X 256 X 3 \n",
    "# think of it as 10 color imges with size 256 X 256 \n",
    "\n",
    "images = tf.zeros([10, 256,256,3], tf.int32)\n",
    "\n",
    "assert isinstance(images, tf.Tensor),\"matrix must be a tf Tensor Object\"\n",
    "assert tf.rank(images).numpy() == 4, \"matrix must be of rank 4\"\n",
    "assert tf.shape(images).numpy().tolist() == [10,256,256,3],\"matrix is incorrect shape\"\n",
    "\n"
   ]
  },
  {
   "cell_type": "code",
   "execution_count": 24,
   "metadata": {},
   "outputs": [
    {
     "name": "stdout",
     "output_type": "stream",
     "text": [
      "row vector : [3. 4. 5.]\n",
      "colomn vector : [4. 5. 3.]\n",
      "scalar : 5.0\n"
     ]
    }
   ],
   "source": [
    "row_vector = matrix[1]\n",
    "colomn_vector = matrix[:,2]\n",
    "scalar = matrix[1,2]\n",
    "\n",
    "print('row vector : {}'.format(row_vector.numpy()))\n",
    "print('colomn vector : {}'.format(colomn_vector.numpy()))\n",
    "print('scalar : {}'.format(scalar.numpy()))"
   ]
  },
  {
   "cell_type": "code",
   "execution_count": 25,
   "metadata": {},
   "outputs": [
    {
     "name": "stdout",
     "output_type": "stream",
     "text": [
      "tf.Tensor(76, shape=(), dtype=int32)\n",
      "tf.Tensor(76, shape=(), dtype=int32)\n"
     ]
    }
   ],
   "source": [
    "## computations on tensor  \n",
    "a = tf.constant(15)\n",
    "b = tf.constant(61)\n",
    "\n",
    "#add them \n",
    "c1 = tf.add(a,b)\n",
    "c2 = a + b\n",
    "print(c1)\n",
    "print(c2)"
   ]
  },
  {
   "cell_type": "code",
   "execution_count": 27,
   "metadata": {},
   "outputs": [
    {
     "name": "stdout",
     "output_type": "stream",
     "text": [
      "tf.Tensor(27.090002, shape=(), dtype=float32)\n"
     ]
    }
   ],
   "source": [
    "#defining tensor operations \n",
    "\n",
    "def func(a,b):\n",
    "    c = tf.add(a,b)\n",
    "    d = tf.subtract(b,1)\n",
    "    e = tf.multiply(c,d)\n",
    "    return e\n",
    "\n",
    "a,b = 1.0 ,5.3\n",
    "\n",
    "e_out = func(a,b)\n",
    "print(e_out)"
   ]
  },
  {
   "cell_type": "code",
   "execution_count": 34,
   "metadata": {},
   "outputs": [],
   "source": [
    "## neural network in tensor flow \n",
    "\n",
    "#define the number of outputs \n",
    "n_output_nodes = 3 \n",
    "\n",
    "#first define the model \n",
    "model = Sequential()\n",
    "\n",
    "dense_layer = Dense(3, input_shape =(2,), activation = 'relu', kernel_initializer= 'random_normal_initializer')\n",
    "\n",
    "model.add(dense_layer)"
   ]
  },
  {
   "cell_type": "code",
   "execution_count": 35,
   "metadata": {},
   "outputs": [
    {
     "name": "stdout",
     "output_type": "stream",
     "text": [
      "tf.Tensor([[0.056167   0.12122293 0.08054844]], shape=(1, 3), dtype=float32)\n"
     ]
    }
   ],
   "source": [
    "## test teh mdoel with example input \n",
    "x_input = tf.constant([[1,2.]], shape=(1,2))\n",
    "\n",
    "#print(x_input)\n",
    "\n",
    "model_output = model(x_input)\n",
    "print(model_output)"
   ]
  },
  {
   "cell_type": "code",
   "execution_count": 36,
   "metadata": {},
   "outputs": [],
   "source": [
    "## gradient computation with gradient tape \n",
    "\n",
    "#y = x^2 \n",
    "# example : x = 3.0 \n",
    "x = tf.Variable(3.0)\n",
    "\n",
    "#indicate the gradient tape \n",
    "with tf.GradientTape() as tape: \n",
    "    #define the function \n",
    "    y = x * x\n",
    "\n",
    "#acess the gradient --derivative of y with respect to x \n",
    "dy_dx = tape.gradient(y,x)\n",
    "\n",
    "assert dy_dx.numpy() == 6.0 "
   ]
  },
  {
   "cell_type": "code",
   "execution_count": 38,
   "metadata": {},
   "outputs": [
    {
     "name": "stdout",
     "output_type": "stream",
     "text": [
      "initialization x=[[-1.6543034]]\n"
     ]
    },
    {
     "data": {
      "text/plain": [
       "Text(0, 0.5, 'x value ')"
      ]
     },
     "execution_count": 38,
     "metadata": {},
     "output_type": "execute_result"
    },
    {
     "data": {
      "image/png": "[encoded data removed]",
      "text/plain": [
       "<Figure size 432x288 with 1 Axes>"
      ]
     },
     "metadata": {
      "needs_background": "light"
     },
     "output_type": "display_data"
    }
   ],
   "source": [
    "### function minimization with automatic differentiation and SGD \n",
    "\n",
    "#initialize a random value for our initial x \n",
    "x = tf.Variable([tf.random.normal([1])])\n",
    "print(\"initialization x={}\".format(x.numpy()))\n",
    "\n",
    "learning_rate = 1e-2 #learning rate for stocastic gradientdecent\n",
    "history = []\n",
    "#define a target value \n",
    "x_f = 4 \n",
    "\n",
    "#we will run SGD for a number of iterations. At each iteration, we compute the loss,\n",
    "#compute the derivative of the loss with respect to x and perform SGD update \n",
    "for i in range(500):\n",
    "    with tf.GradientTape() as tape: \n",
    "        loss = (x - x_f)**2\n",
    "        \n",
    "        #loss minimization using gradient tape \n",
    "        grad = tape.gradient(loss,x) #capture the gradient wrt x \n",
    "        new_x = x - learning_rate*grad \n",
    "        x.assign(new_x)\n",
    "        history.append(x.numpy()[0])\n",
    "        \n",
    "#plot the evolution of x as we optimize towards x_f!\n",
    "plt.plot(history)\n",
    "plt.plot([0 , 500],[x_f,x_f])\n",
    "plt.legend(('predicted','true'))\n",
    "plt.xlabel('Iteration')\n",
    "plt.ylabel('x value ')"
   ]
  },
  {
   "cell_type": "code",
   "execution_count": null,
   "metadata": {},
   "outputs": [],
   "source": []
  }
 ],
 "metadata": {
  "kernelspec": {
   "display_name": "Python 3",
   "language": "python",
   "name": "python3"
  },
  "language_info": {
   "codemirror_mode": {
    "name": "ipython",
    "version": 3
   },
   "file_extension": ".py",
   "mimetype": "text/x-python",
   "name": "python",
   "nbconvert_exporter": "python",
   "pygments_lexer": "ipython3",
   "version": "3.6.10"
  }
 },
 "nbformat": 4,
 "nbformat_minor": 4
}
